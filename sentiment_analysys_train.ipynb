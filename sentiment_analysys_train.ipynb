{
 "cells": [
  {
   "cell_type": "code",
   "execution_count": 1,
   "id": "de62fc61",
   "metadata": {},
   "outputs": [
    {
     "name": "stderr",
     "output_type": "stream",
     "text": [
      "2025-06-09 22:22:44.770816: E external/local_xla/xla/stream_executor/cuda/cuda_fft.cc:467] Unable to register cuFFT factory: Attempting to register factory for plugin cuFFT when one has already been registered\n",
      "WARNING: All log messages before absl::InitializeLog() is called are written to STDERR\n",
      "E0000 00:00:1749496964.818005   53976 cuda_dnn.cc:8579] Unable to register cuDNN factory: Attempting to register factory for plugin cuDNN when one has already been registered\n",
      "E0000 00:00:1749496964.832359   53976 cuda_blas.cc:1407] Unable to register cuBLAS factory: Attempting to register factory for plugin cuBLAS when one has already been registered\n",
      "W0000 00:00:1749496964.869109   53976 computation_placer.cc:177] computation placer already registered. Please check linkage and avoid linking the same target more than once.\n",
      "W0000 00:00:1749496964.869146   53976 computation_placer.cc:177] computation placer already registered. Please check linkage and avoid linking the same target more than once.\n",
      "W0000 00:00:1749496964.869150   53976 computation_placer.cc:177] computation placer already registered. Please check linkage and avoid linking the same target more than once.\n",
      "W0000 00:00:1749496964.869153   53976 computation_placer.cc:177] computation placer already registered. Please check linkage and avoid linking the same target more than once.\n",
      "2025-06-09 22:22:44.880812: I tensorflow/core/platform/cpu_feature_guard.cc:210] This TensorFlow binary is optimized to use available CPU instructions in performance-critical operations.\n",
      "To enable the following instructions: AVX2 AVX_VNNI FMA, in other operations, rebuild TensorFlow with the appropriate compiler flags.\n"
     ]
    }
   ],
   "source": [
    "import kagglehub\n",
    "import pandas as pd\n",
    "import numpy as np\n",
    "from transformers import TFBertModel, BertTokenizer\n",
    "import tensorflow as tf"
   ]
  },
  {
   "cell_type": "code",
   "execution_count": 2,
   "id": "c9110e73",
   "metadata": {},
   "outputs": [
    {
     "name": "stdout",
     "output_type": "stream",
     "text": [
      "Warning: Looks like you're using an outdated `kagglehub` version (installed: 0.3.11), please consider upgrading to the latest version (0.3.12).\n",
      "Path to dataset files: /home/eugen/.cache/kagglehub/datasets/lakshmi25npathi/imdb-dataset-of-50k-movie-reviews/versions/1\n"
     ]
    }
   ],
   "source": [
    "# Download latest version\n",
    "path = kagglehub.dataset_download(\"lakshmi25npathi/imdb-dataset-of-50k-movie-reviews\")\n",
    "\n",
    "print(\"Path to dataset files:\", path)"
   ]
  },
  {
   "cell_type": "code",
   "execution_count": 3,
   "id": "96f83764",
   "metadata": {},
   "outputs": [
    {
     "name": "stdout",
     "output_type": "stream",
     "text": [
      "<class 'pandas.core.frame.DataFrame'>\n",
      "RangeIndex: 50000 entries, 0 to 49999\n",
      "Data columns (total 2 columns):\n",
      " #   Column     Non-Null Count  Dtype \n",
      "---  ------     --------------  ----- \n",
      " 0   review     50000 non-null  object\n",
      " 1   sentiment  50000 non-null  object\n",
      "dtypes: object(2)\n",
      "memory usage: 781.4+ KB\n"
     ]
    },
    {
     "data": {
      "text/plain": [
       "(                                                                                                                                                                                                                                                                                                                                                                                                                                                                                                                                                                                                                                                                                                                                                                                                                                                                                                                                                                                                                                                                                                                                                                                                                                                                                                                                                                                                                                                                                                                                                                                                                                                                                                                                                                                                                              review  \\\n",
       " 0  One of the other reviewers has mentioned that after watching just 1 Oz episode you'll be hooked. They are right, as this is exactly what happened with me.<br /><br />The first thing that struck me about Oz was its brutality and unflinching scenes of violence, which set in right from the word GO. Trust me, this is not a show for the faint hearted or timid. This show pulls no punches with regards to drugs, sex or violence. Its is hardcore, in the classic use of the word.<br /><br />It is called OZ as that is the nickname given to the Oswald Maximum Security State Penitentary. It focuses mainly on Emerald City, an experimental section of the prison where all the cells have glass fronts and face inwards, so privacy is not high on the agenda. Em City is home to many..Aryans, Muslims, gangstas, Latinos, Christians, Italians, Irish and more....so scuffles, death stares, dodgy dealings and shady agreements are never far away.<br /><br />I would say the main appeal of the show is due to the fact that it goes where other shows wouldn't dare. Forget pretty pictures painted for mainstream audiences, forget charm, forget romance...OZ doesn't mess around. The first episode I ever saw struck me as so nasty it was surreal, I couldn't say I was ready for it, but as I watched more, I developed a taste for Oz, and got accustomed to the high levels of graphic violence. Not just violence, but injustice (crooked guards who'll be sold out for a nickel, inmates who'll kill on order and get away with it, well mannered, middle class inmates being turned into prison bitches due to their lack of street skills or prison experience) Watching Oz, you may become comfortable with what is uncomfortable viewing....thats if you can get in touch with your darker side.   \n",
       " 1                                                                                                                                                                                                                                                                                                                                                                                                                                                                                                                                                                                                                                                                                                                                                                                             A wonderful little production. <br /><br />The filming technique is very unassuming- very old-time-BBC fashion and gives a comforting, and sometimes discomforting, sense of realism to the entire piece. <br /><br />The actors are extremely well chosen- Michael Sheen not only \"has got all the polari\" but he has all the voices down pat too! You can truly see the seamless editing guided by the references to Williams' diary entries, not only is it well worth the watching but it is a terrificly written and performed piece. A masterful production about one of the great master's of comedy and his life. <br /><br />The realism really comes home with the little things: the fantasy of the guard which, rather than use the traditional 'dream' techniques remains solid then disappears. It plays on our knowledge and our senses, particularly with the scenes concerning Orton and Halliwell and the sets (particularly of their flat with Halliwell's murals decorating every surface) are terribly well done.   \n",
       " 2                                                                                                                                                                                                                                                                                                                                                                                                                                                                                                                                                                                                                                                                                                                                                                                                                                                                     I thought this was a wonderful way to spend time on a too hot summer weekend, sitting in the air conditioned theater and watching a light-hearted comedy. The plot is simplistic, but the dialogue is witty and the characters are likable (even the well bread suspected serial killer). While some may be disappointed when they realize this is not Match Point 2: Risk Addiction, I thought it was proof that Woody Allen is still fully in control of the style many of us have grown to love.<br /><br />This was the most I'd laughed at one of Woody's comedies in years (dare I say a decade?). While I've never been impressed with Scarlet Johanson, in this she managed to tone down her \"sexy\" image and jumped right into a average, but spirited young woman.<br /><br />This may not be the crown jewel of his career, but it was wittier than \"Devil Wears Prada\" and more interesting than \"Superman\" a great comedy to go see with friends.   \n",
       " \n",
       "   sentiment  \n",
       " 0  positive  \n",
       " 1  positive  \n",
       " 2  positive  ,\n",
       " None,\n",
       " review       0\n",
       " sentiment    0\n",
       " dtype: int64)"
      ]
     },
     "execution_count": 3,
     "metadata": {},
     "output_type": "execute_result"
    }
   ],
   "source": [
    "dataset = pd.read_csv(path + '/IMDB Dataset.csv')\n",
    "pd.set_option('display.max_colwidth', None)\n",
    "dataset.head(3), dataset.info(), dataset.isnull().sum()"
   ]
  },
  {
   "cell_type": "code",
   "execution_count": 4,
   "id": "423b337c",
   "metadata": {},
   "outputs": [
    {
     "data": {
      "text/html": [
       "<div>\n",
       "<style scoped>\n",
       "    .dataframe tbody tr th:only-of-type {\n",
       "        vertical-align: middle;\n",
       "    }\n",
       "\n",
       "    .dataframe tbody tr th {\n",
       "        vertical-align: top;\n",
       "    }\n",
       "\n",
       "    .dataframe thead th {\n",
       "        text-align: right;\n",
       "    }\n",
       "</style>\n",
       "<table border=\"1\" class=\"dataframe\">\n",
       "  <thead>\n",
       "    <tr style=\"text-align: right;\">\n",
       "      <th></th>\n",
       "      <th>review</th>\n",
       "      <th>sentiment</th>\n",
       "    </tr>\n",
       "  </thead>\n",
       "  <tbody>\n",
       "    <tr>\n",
       "      <th>5442</th>\n",
       "      <td>im a huge fan of legendary director elia kazan  his movies often deal with people trying to overcome their weaknesses be it obsessive love in splendor in the grass poverty in a tree grows in brooklyn or racism in gentlemens agreement while looking for other movies made by kazan i stumbled across a movie that was based on a novel by arthur miller the movie called focus stars william hmacy who happens to be one of my favorite actors and laura dern it deals with antisemitism in a very realistic way br br macys character seems to go along with the bigots in his neighborhood and on his job until it affects him personally thats the key here the reason he acted wasnt because he knew it was wrong and he wanted to take a stand he acted because he was now considered an outsider and he began to experience the same looks the same remarks and the same brutally that mr finklestein david pamyersexperienced br br the movie is very well written and well acted meat loaf does a awesome job of playing a dirt bag both macy and derns performances are outstanding its easier in life to go along with instead of going against sometimes in order for people to take a stand things have to impact their lives or the lives of their loved onesonly then will some find their moral compass</td>\n",
       "      <td>positive</td>\n",
       "    </tr>\n",
       "    <tr>\n",
       "      <th>6586</th>\n",
       "      <td>dahl seems to have been under the influence of wenders the american friend innocent nick cage gets recruited for a hit dennis hopper plays a real hit man lara flynn boyle is dangerous the hero gets more entangled the more he tries to extricate hisself and small town america does not seem all that safer than the big city like its predecessor mentioned above this movie has lots of plot twists and turns that seem improbable but all lead to the cathartic self discovery</td>\n",
       "      <td>positive</td>\n",
       "    </tr>\n",
       "    <tr>\n",
       "      <th>38935</th>\n",
       "      <td>this was a very good show i enjoyed the construction of real time and flashback seeing the old diggers meeting again and recalling the terrors of their captivity in changi pow camp the main problem with the way the show was written is that the scenes of life in changi are more like a holiday camp than what the place must have been like i am old enough to remember film footage of the men being liberated from changi and other japanese pow camps no actor could lose enough weight to have a resemblance of the state of those men they made the jews of belsen look like sumo wrestlers i have met several veterans from changi over the years many would never ride in a japanese car let alone own one the physical and mental torture those men endured was too horrific for them to even talk about what percentage survived john doyle might be ok writing comedy for roy and hg i hate that too but this is a serious sugar coating of history that should never have been tolerated im happy for satirists to write the life of brian and make fun of the crucifixion because it is obviously comedy even if some consider it to be in bad taste changi is written as a portrayal of a real event and as such might be regarded by younger people as a true record great performances by a fine cast cannot redeem this lightweight screenplay</td>\n",
       "      <td>negative</td>\n",
       "    </tr>\n",
       "  </tbody>\n",
       "</table>\n",
       "</div>"
      ],
      "text/plain": [
       "                                                                                                                                                                                                                                                                                                                                                                                                                                                                                                                                                                                                                                                                                                                                                                                                                                                                                                                                                                                                                                                                                                                                                                                                                                                                                                                                                                     review  \\\n",
       "5442                                             im a huge fan of legendary director elia kazan  his movies often deal with people trying to overcome their weaknesses be it obsessive love in splendor in the grass poverty in a tree grows in brooklyn or racism in gentlemens agreement while looking for other movies made by kazan i stumbled across a movie that was based on a novel by arthur miller the movie called focus stars william hmacy who happens to be one of my favorite actors and laura dern it deals with antisemitism in a very realistic way br br macys character seems to go along with the bigots in his neighborhood and on his job until it affects him personally thats the key here the reason he acted wasnt because he knew it was wrong and he wanted to take a stand he acted because he was now considered an outsider and he began to experience the same looks the same remarks and the same brutally that mr finklestein david pamyersexperienced br br the movie is very well written and well acted meat loaf does a awesome job of playing a dirt bag both macy and derns performances are outstanding its easier in life to go along with instead of going against sometimes in order for people to take a stand things have to impact their lives or the lives of their loved onesonly then will some find their moral compass   \n",
       "6586                                                                                                                                                                                                                                                                                                                                                                                                                                                                                                                                                                                                                                                                                                                                                                                                                                                                                  dahl seems to have been under the influence of wenders the american friend innocent nick cage gets recruited for a hit dennis hopper plays a real hit man lara flynn boyle is dangerous the hero gets more entangled the more he tries to extricate hisself and small town america does not seem all that safer than the big city like its predecessor mentioned above this movie has lots of plot twists and turns that seem improbable but all lead to the cathartic self discovery   \n",
       "38935  this was a very good show i enjoyed the construction of real time and flashback seeing the old diggers meeting again and recalling the terrors of their captivity in changi pow camp the main problem with the way the show was written is that the scenes of life in changi are more like a holiday camp than what the place must have been like i am old enough to remember film footage of the men being liberated from changi and other japanese pow camps no actor could lose enough weight to have a resemblance of the state of those men they made the jews of belsen look like sumo wrestlers i have met several veterans from changi over the years many would never ride in a japanese car let alone own one the physical and mental torture those men endured was too horrific for them to even talk about what percentage survived john doyle might be ok writing comedy for roy and hg i hate that too but this is a serious sugar coating of history that should never have been tolerated im happy for satirists to write the life of brian and make fun of the crucifixion because it is obviously comedy even if some consider it to be in bad taste changi is written as a portrayal of a real event and as such might be regarded by younger people as a true record great performances by a fine cast cannot redeem this lightweight screenplay   \n",
       "\n",
       "      sentiment  \n",
       "5442   positive  \n",
       "6586   positive  \n",
       "38935  negative  "
      ]
     },
     "execution_count": 4,
     "metadata": {},
     "output_type": "execute_result"
    }
   ],
   "source": [
    "dataset = dataset.sample(n=3000)\n",
    "dataset['review'] = dataset['review'].apply(lambda row: row.lower())\n",
    "dataset['review'] = dataset['review'].str.replace(r'[^a-zA-Z\\s]', '', regex=True)\n",
    "dataset.sample(3)"
   ]
  },
  {
   "cell_type": "code",
   "execution_count": 5,
   "id": "5aa670e9",
   "metadata": {},
   "outputs": [
    {
     "data": {
      "text/plain": [
       "{'input_ids': array([[  101,  2023,  1037, ...,  4811,  4081,   102],\n",
       "       [  101,  2023,  3185, ...,  2237,  2008,   102],\n",
       "       [  101,  2204, 21416, ...,  2000,  2156,   102],\n",
       "       ...,\n",
       "       [  101,  2412,  2144, ...,  3641,  2058,   102],\n",
       "       [  101,  2469,  2023, ...,  2009,  2003,   102],\n",
       "       [  101,  2023,  2143, ...,  9755,  2673,   102]], shape=(3000, 50)), 'token_type_ids': array([[0, 0, 0, ..., 0, 0, 0],\n",
       "       [0, 0, 0, ..., 0, 0, 0],\n",
       "       [0, 0, 0, ..., 0, 0, 0],\n",
       "       ...,\n",
       "       [0, 0, 0, ..., 0, 0, 0],\n",
       "       [0, 0, 0, ..., 0, 0, 0],\n",
       "       [0, 0, 0, ..., 0, 0, 0]], shape=(3000, 50)), 'attention_mask': array([[1, 1, 1, ..., 1, 1, 1],\n",
       "       [1, 1, 1, ..., 1, 1, 1],\n",
       "       [1, 1, 1, ..., 1, 1, 1],\n",
       "       ...,\n",
       "       [1, 1, 1, ..., 1, 1, 1],\n",
       "       [1, 1, 1, ..., 1, 1, 1],\n",
       "       [1, 1, 1, ..., 1, 1, 1]], shape=(3000, 50))}"
      ]
     },
     "execution_count": 5,
     "metadata": {},
     "output_type": "execute_result"
    }
   ],
   "source": [
    "tokenizer = BertTokenizer.from_pretrained('prajjwal1/bert-tiny')\n",
    "\n",
    "def tokenize_text(text):\n",
    "    return tokenizer(\n",
    "         text.tolist(),\n",
    "         max_length = 50,\n",
    "         truncation = True,\n",
    "         padding = 'max_length',\n",
    "         return_tensors = 'np'\n",
    "    )\n",
    "\n",
    "tokenized = tokenize_text(dataset['review'])\n",
    "tokenized"
   ]
  },
  {
   "cell_type": "code",
   "execution_count": 6,
   "id": "352fb046",
   "metadata": {},
   "outputs": [
    {
     "name": "stderr",
     "output_type": "stream",
     "text": [
      "I0000 00:00:1749496993.867400   53976 gpu_process_state.cc:208] Using CUDA malloc Async allocator for GPU: 0\n",
      "I0000 00:00:1749496993.867627   53976 gpu_device.cc:2019] Created device /job:localhost/replica:0/task:0/device:GPU:0 with 6260 MB memory:  -> device: 0, name: NVIDIA GeForce RTX 4070 Laptop GPU, pci bus id: 0000:01:00.0, compute capability: 8.9\n",
      "Some weights of the PyTorch model were not used when initializing the TF 2.0 model TFBertModel: ['cls.predictions.decoder.weight', 'cls.predictions.transform.dense.weight', 'cls.predictions.transform.LayerNorm.weight', 'bert.embeddings.position_ids', 'cls.seq_relationship.bias', 'cls.predictions.bias', 'cls.predictions.decoder.bias', 'cls.predictions.transform.dense.bias', 'cls.seq_relationship.weight', 'cls.predictions.transform.LayerNorm.bias']\n",
      "- This IS expected if you are initializing TFBertModel from a PyTorch model trained on another task or with another architecture (e.g. initializing a TFBertForSequenceClassification model from a BertForPreTraining model).\n",
      "- This IS NOT expected if you are initializing TFBertModel from a PyTorch model that you expect to be exactly identical (e.g. initializing a TFBertForSequenceClassification model from a BertForSequenceClassification model).\n",
      "All the weights of TFBertModel were initialized from the PyTorch model.\n",
      "If your task is similar to the task the model of the checkpoint was trained on, you can already use TFBertModel for predictions without further training.\n"
     ]
    }
   ],
   "source": [
    "bert_model = TFBertModel.from_pretrained('prajjwal1/bert-tiny', from_pt=True)\n",
    "outputs = bert_model(tokenized)\n",
    "\n",
    "X = outputs.last_hidden_state[:, 0, :].numpy()\n",
    "y = dataset['sentiment']\n"
   ]
  },
  {
   "cell_type": "code",
   "execution_count": 7,
   "id": "8c09bf2c",
   "metadata": {},
   "outputs": [
    {
     "name": "stdout",
     "output_type": "stream",
     "text": [
      "              precision    recall  f1-score   support\n",
      "\n",
      "    negative       0.68      0.70      0.69       299\n",
      "    positive       0.69      0.68      0.68       301\n",
      "\n",
      "    accuracy                           0.69       600\n",
      "   macro avg       0.69      0.69      0.69       600\n",
      "weighted avg       0.69      0.69      0.69       600\n",
      "\n"
     ]
    }
   ],
   "source": [
    "from sklearn.model_selection import train_test_split\n",
    "from sklearn.linear_model import LogisticRegression\n",
    "from sklearn.metrics import classification_report\n",
    "\n",
    "X_train, X_test, y_train, y_test = train_test_split(X, y, test_size = 0.2)\n",
    "\n",
    "log_reg = LogisticRegression(max_iter=1000)\n",
    "log_reg.fit(X_train, y_train)\n",
    "y_pred = log_reg.predict(X_test)\n",
    "print(classification_report(y_test, y_pred))"
   ]
  },
  {
   "cell_type": "code",
   "execution_count": 8,
   "id": "e8e25404",
   "metadata": {},
   "outputs": [],
   "source": [
    "import spacy\n",
    "\n",
    "spacy_nlp = spacy.load(\"en_core_web_sm\")\n",
    "\n",
    "def extract_actor_sentiment(text):\n",
    "    doc = spacy_nlp(text)\n",
    "    actor_sentiment = None\n",
    "    for token in doc:\n",
    "        if token.lemma_ == \"actor\" or token.lemma_ == \"actors\" and token.pos_ == \"NOUN\":\n",
    "            for child in token.children:\n",
    "                if child.pos_ == \"ADJ\":\n",
    "                    sentiment = child.text.lower()\n",
    "                    if sentiment in ['good', 'great', 'excellent', 'amazing', 'brilliant', 'fantastic']:\n",
    "                        actor_sentiment = 0\n",
    "                    elif sentiment in ['bad', 'terrible', 'awful', 'poor', 'horrible']:\n",
    "                        actor_sentiment = 1\n",
    "                    break\n",
    "            if actor_sentiment:\n",
    "                break\n",
    "    return actor_sentiment\n",
    "\n",
    "\n",
    "dataset['actor_sentiment'] = dataset['review'].apply(extract_actor_sentiment)\n",
    "\n"
   ]
  },
  {
   "cell_type": "code",
   "execution_count": 9,
   "id": "4c38a6cf",
   "metadata": {},
   "outputs": [
    {
     "name": "stdout",
     "output_type": "stream",
     "text": [
      "<class 'pandas.core.frame.DataFrame'>\n",
      "Index: 66 entries, 47744 to 17047\n",
      "Data columns (total 3 columns):\n",
      " #   Column           Non-Null Count  Dtype  \n",
      "---  ------           --------------  -----  \n",
      " 0   review           66 non-null     object \n",
      " 1   sentiment        66 non-null     object \n",
      " 2   actor_sentiment  66 non-null     float64\n",
      "dtypes: float64(1), object(2)\n",
      "memory usage: 2.1+ KB\n"
     ]
    }
   ],
   "source": [
    "dataset_with_actors_sent = dataset[dataset['actor_sentiment'].notna()]\n",
    "dataset_with_actors_sent.info()"
   ]
  },
  {
   "cell_type": "code",
   "execution_count": 10,
   "id": "4d9d4d4a",
   "metadata": {},
   "outputs": [
    {
     "name": "stdout",
     "output_type": "stream",
     "text": [
      "              precision    recall  f1-score   support\n",
      "\n",
      "         0.0       0.77      0.91      0.83        11\n",
      "         1.0       0.00      0.00      0.00         3\n",
      "\n",
      "    accuracy                           0.71        14\n",
      "   macro avg       0.38      0.45      0.42        14\n",
      "weighted avg       0.60      0.71      0.65        14\n",
      "\n"
     ]
    }
   ],
   "source": [
    "X_by_actor = dataset_with_actors_sent.drop('actor_sentiment', axis=1)\n",
    "y_by_actor = dataset_with_actors_sent['actor_sentiment']\n",
    "\n",
    "tokenized = tokenize_text(X_by_actor['review'])\n",
    "outputs_by_actor = bert_model(tokenized)\n",
    "X_by_actor = outputs_by_actor.last_hidden_state[:, 0, :].numpy()\n",
    "\n",
    "X_train_actor, X_test_actor, y_train_actor, y_test_actor = train_test_split(X_by_actor, y_by_actor, test_size = 0.2)\n",
    "\n",
    "log_reg_by_actor = LogisticRegression(max_iter=1000)\n",
    "log_reg_by_actor.fit(X_train_actor, y_train_actor)\n",
    "y_pred_actor = log_reg_by_actor.predict(X_test_actor)\n",
    "print(classification_report(y_test_actor, y_pred_actor))"
   ]
  }
 ],
 "metadata": {
  "kernelspec": {
   "display_name": ".venv",
   "language": "python",
   "name": "python3"
  },
  "language_info": {
   "codemirror_mode": {
    "name": "ipython",
    "version": 3
   },
   "file_extension": ".py",
   "mimetype": "text/x-python",
   "name": "python",
   "nbconvert_exporter": "python",
   "pygments_lexer": "ipython3",
   "version": "3.10.12"
  }
 },
 "nbformat": 4,
 "nbformat_minor": 5
}
